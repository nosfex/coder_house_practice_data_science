{
 "cells": [
  {
   "cell_type": "code",
   "execution_count": null,
   "id": "e036d56e",
   "metadata": {
    "lines_to_next_cell": 1
   },
   "outputs": [],
   "source": [
    "from heapq import nlargest\n",
    "from locale import currency\n",
    "import pandas as pd\n",
    "import numpy as np\n",
    "import pprint\n",
    "pp = pprint.PrettyPrinter()"
   ]
  },
  {
   "cell_type": "code",
   "execution_count": null,
   "id": "0de15c46",
   "metadata": {},
   "outputs": [],
   "source": [
    "class TableOperator:\n",
    "   \n",
    "    current_data_frame = None\n",
    "    pd_columns_dict = None\n",
    "    pd_datetime_df = None\n",
    "    def __init__(self):\n",
    "        self.pd_columns_dict = dict()\n",
    "\n",
    "    def parse_csv(self, filename, *args):\n",
    "        self.current_data_frame = pd.read_csv(filename, encoding='ISO-8859=1')\n",
    "        self.pd_datetime_df = self.current_data_frame.copy()\n",
    "        self.pd_datetime_df['Year'] = pd.to_datetime((self.current_data_frame.groupby('City').head()['Year']), format='%Y')\n",
    "        self.pd_datetime_df.set_index( self.pd_datetime_df['Year'])\n",
    "        for column in args:\n",
    "            self.pd_columns_dict[column] = self.current_data_frame.loc[:,column]\n",
    "            \n",
    "    def split_column_in_two(self, split_var, index, data_name_a, data_name_b, index_split=[1,0]) -> pd.DataFrame: \n",
    "        \n",
    "        to_split_val = np.char.split(np.array([ to_split for to_split in self.pd_columns_dict[index] ]), ', ')\n",
    "        a_array = np.array([val_a[index_split[0]] for val_a in to_split_val])\n",
    "        b_array = np.array([val_b[index_split[1]] for val_b in to_split_val])\n",
    "        data_set = pd.DataFrame({data_name_a: a_array, data_name_b: b_array})\n",
    "        \n",
    "        return data_set \n",
    "\n",
    "    def count_values_in_column(self, data_frame, columns) -> pd.DataFrame:\n",
    "        df =  data_frame.groupby(columns).count()\n",
    "        return df\n",
    "\n",
    "    def display_split(self):\n",
    "        pp.pprint(self.split_column_in_two(',', 'Athlete', 'Name', 'LastName'))\n",
    "\n",
    "\n",
    "    def display_top_medal_country(self):\n",
    "        pp.pprint(self.count_values_in_column(self.current_data_frame, ['Country']).sort_values('Medal', ascending=False).head(10)['Medal'])\n",
    "        pp.pprint(self.count_values_in_column(self.current_data_frame, ['Country']).sort_values('Medal', ascending=False).head(1)['Medal'])\n",
    "\n",
    "    def display_medals_year_males(self):\n",
    "        year_males = self.current_data_frame\n",
    "        year_males = year_males[year_males['Event_gender'] == 'M']  \n",
    "        pp.pprint(to.count_values_in_column(year_males, 'Year')['Athlete'])"
   ]
  },
  {
   "cell_type": "code",
   "execution_count": null,
   "id": "f8ac1689",
   "metadata": {},
   "outputs": [],
   "source": [
    "to = TableOperator()\n",
    "to.parse_csv('Summer-Olympic-medals-1976-to-2008.csv', 'Athlete', 'Event')"
   ]
  },
  {
   "cell_type": "code",
   "execution_count": null,
   "id": "997d906f",
   "metadata": {},
   "outputs": [],
   "source": [
    "# Year converted to data index\n",
    "pp.pprint(to.pd_datetime_df)"
   ]
  },
  {
   "cell_type": "code",
   "execution_count": null,
   "id": "e6c74e43",
   "metadata": {},
   "outputs": [],
   "source": [
    "# Name splitting into 2 columns\n",
    "to.display_split()\n",
    "# Display the top 10 and Top country by medals\n",
    "to.display_top_medal_country()\n",
    "# Display Medals by Male gender per year\n",
    "to.display_medals_year_males()"
   ]
  },
  {
   "cell_type": "code",
   "execution_count": null,
   "id": "0de28be1",
   "metadata": {
    "lines_to_next_cell": 2
   },
   "outputs": [],
   "source": []
  }
 ],
 "metadata": {
  "jupytext": {
   "cell_metadata_filter": "-all",
   "formats": "ipynb,py",
   "main_language": "python"
  }
 },
 "nbformat": 4,
 "nbformat_minor": 5
}
