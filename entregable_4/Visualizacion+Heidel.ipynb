{
 "cells": [
  {
   "cell_type": "code",
   "execution_count": null,
   "id": "619b9a0f",
   "metadata": {},
   "outputs": [],
   "source": [
    "from timeit import repeat\n",
    "import pandas as pd\n",
    "import numpy as np\n",
    "import seaborn as sns\n",
    "import matplotlib.pyplot as plt\n",
    "import pprint"
   ]
  },
  {
   "cell_type": "code",
   "execution_count": null,
   "id": "a24c4db4",
   "metadata": {
    "lines_to_next_cell": 1
   },
   "outputs": [],
   "source": [
    "pp = pprint.PrettyPrinter()\n",
    "class TableOperator:\n",
    "\n",
    "    csv_dataframe = ''\n",
    "    operation_dataframe = ''\n",
    "    def __init__(self):\n",
    "        pass\n",
    "\n",
    "    def parse_csv(self, filename):\n",
    "        csv_dataframe = pd.read_csv(filename, encoding='ISO-8859=1')\n",
    "        self.operation_dataframe = csv_dataframe.copy()\n",
    "    \n",
    "    def get_df_column_from_df(self, df, column_id) -> pd.DataFrame:\n",
    "        return df[column_id]\n",
    "\n",
    "    def show_histogram(self):\n",
    "        plt.close()\n",
    "        sns.set_style('whitegrid')\n",
    "        plt.title('Salary Histogram')\n",
    "        plt.xlabel('Salary')\n",
    "        plt.ylabel('Employees')\n",
    "        sns.histplot(self.get_df_column_from_df(self.operation_dataframe, 'Salary'))\n",
    "        plt.show()\n",
    "    \n",
    "    def show_violin_plot(self):\n",
    "        plt.close()\n",
    "        \n",
    "        sns.set_style('whitegrid')\n",
    "        plt.title('Salary Violin Plot')\n",
    "        sns.violinplot(x='Sex', y='Salary', hue='Sex', data=self.operation_dataframe)\n",
    "        plt.show()\n",
    "    \n",
    "    def show_date_of_hire_plot(self):\n",
    "        plt.close()\n",
    "        plt.title('Date of Hire')\n",
    "        hires = pd.to_datetime(self.operation_dataframe['DateofHire'])\n",
    "        value_count = hires.value_counts()\n",
    "        value_count.plot(use_index=True) \n",
    "        plt.show()"
   ]
  },
  {
   "cell_type": "code",
   "execution_count": null,
   "id": "9d75112c",
   "metadata": {},
   "outputs": [],
   "source": [
    "to = TableOperator()\n",
    "to.parse_csv('HRDataset_v14.csv')\n",
    "to.show_histogram()\n",
    "to.show_violin_plot()\n",
    "to.show_date_of_hire_plot()"
   ]
  }
 ],
 "metadata": {
  "jupytext": {
   "cell_metadata_filter": "-all",
   "formats": "ipynb,py",
   "main_language": "python"
  }
 },
 "nbformat": 4,
 "nbformat_minor": 5
}
